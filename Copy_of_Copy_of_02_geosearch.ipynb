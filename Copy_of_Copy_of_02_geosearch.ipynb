{
  "cells": [
    {
      "cell_type": "code",
      "execution_count": null,
      "metadata": {
        "id": "EtnaSlH-wplB"
      },
      "outputs": [],
      "source": [
        "# created on Dec 24, 2020\n",
        "# modified on April 12, 2022\n",
        "# @author:          Bo Zhao\n",
        "# @email:           zhaobo@uw.edu\n",
        "# @website:         https://hgis.uw.edu\n",
        "# @organization:    Department of Geography, University of Washington, Seattle\n",
        "# @description:     Search geo-tagged tweets within the U.S. This script is modified from https://github.com/shawn-terryah/Twitter_Geolocation"
      ]
    },
    {
      "cell_type": "code",
      "execution_count": 1,
      "metadata": {
        "colab": {
          "base_uri": "https://localhost:8080/"
        },
        "id": "f-bMdKMawxnQ",
        "outputId": "4995b47c-b827-4260-fc8a-4f971d5ba5da"
      },
      "outputs": [
        {
          "output_type": "stream",
          "name": "stdout",
          "text": [
            "Mounted at /gdrive\n"
          ]
        }
      ],
      "source": [
        "import tweepy, json, time\n",
        "import pandas as pd\n",
        "from google.colab import files\n",
        "# Create data on to Google Drive\n",
        "from google.colab import drive\n",
        "# Mount your Drive to the Colab VM.\n",
        "drive.mount('/gdrive')"
      ]
    },
    {
      "cell_type": "code",
      "execution_count": 2,
      "metadata": {
        "id": "d35w3eexBxG4"
      },
      "outputs": [],
      "source": [
        "class StreamListener(tweepy.StreamListener):\n",
        "    \"\"\"tweepy.StreamListener is a class provided by tweepy used to access\n",
        "    the Twitter Streaming API to collect tweets in real-time.\n",
        "    \"\"\"\n",
        "\n",
        "    def __init__(self, time_limit=60, file=\"\"):\n",
        "        \"\"\"class initialization\"\"\"\n",
        "        self.start_time = time.time()\n",
        "        self.limit = time_limit\n",
        "        self.result = []\n",
        "        self.f = file\n",
        "        super(StreamListener, self).__init__()\n",
        "\n",
        "    def on_data(self, data):\n",
        "        \"\"\"This is called when data are streamed in.\"\"\"\n",
        "        if (time.time() - self.start_time) < self.limit:\n",
        "            datajson = json.loads(data)\n",
        "            # print(datajson, \"\\n\")\n",
        "            if 'id' not in datajson.keys():\n",
        "                time.sleep(10)\n",
        "            else:\n",
        "                id = datajson['id']\n",
        "                username = datajson['user']['screen_name']\n",
        "                created_at = datajson['created_at']\n",
        "                text = datajson['text'].strip().replace(\"\\n\", \"\")\n",
        "\n",
        "                # process the geo-tags\n",
        "                if datajson['coordinates'] == None:\n",
        "                    try:\n",
        "                        bbox = datajson['place']['bounding_box']['coordinates'][0]\n",
        "                        lng = (bbox[0][0] + bbox[2][0]) / 2.0\n",
        "                        lat = (bbox[0][1] + bbox[1][1]) / 2.0\n",
        "                    except:\n",
        "                        lat = 0\n",
        "                        lng = 0\n",
        "                else:\n",
        "                    lng = datajson['coordinates']['coordinates'][0]\n",
        "                    lat = datajson['coordinates']['coordinates'][1]\n",
        "\n",
        "                if lat != 0:\n",
        "                    row = {\n",
        "                        'id': id,\n",
        "                        'username': username,\n",
        "                        'created_at': created_at,\n",
        "                        'lng': lng,\n",
        "                        'lat': lat,\n",
        "                        'text': text\n",
        "                    }\n",
        "                    print(row)\n",
        "                    self.result.append(row)\n",
        "                else:\n",
        "                    pass\n",
        "        else:\n",
        "            df = pd.DataFrame(self.result)\n",
        "            df.to_csv(self.f, index=False)\n",
        "            # download the csv to your local computer\n",
        "            files.download(self.f)\n",
        "            print(\"the csv has been downloaded to your local computer. The program has been completed successfully.\")\n",
        "            return False"
      ]
    },
    {
      "cell_type": "code",
      "execution_count": 18,
      "metadata": {
        "colab": {
          "base_uri": "https://localhost:8080/",
          "height": 363
        },
        "id": "5Xzyo_OiwplG",
        "outputId": "8cbfd595-c529-48d1-e944-64f74e89b018"
      },
      "outputs": [
        {
          "output_type": "stream",
          "name": "stdout",
          "text": [
            "{'id': 1518717618332393472, 'username': 'ThuPlug', 'created_at': 'Mon Apr 25 22:24:31 +0000 2022', 'lng': 139.65925049999998, 'lat': 35.7060655, 'text': 'Elon really bought Twitter 😳'}\n",
            "{'id': 1518717643175469061, 'username': 'Patrici20765403', 'created_at': 'Mon Apr 25 22:24:37 +0000 2022', 'lng': -89.5960515, 'lat': 40.6446025, 'text': \"I don't worship anyone but God\"}\n",
            "{'id': 1518717645440258048, 'username': 'MileHighBrendan', 'created_at': 'Mon Apr 25 22:24:37 +0000 2022', 'lng': -104.92209349999999, 'lat': 39.713563, 'text': 'If Donald Trump ever called me a “good man,” I would have to immediately re-evaluate my life.That’s like Tommy Wi… https://t.co/A7pXOnder6'}\n",
            "{'id': 1518717663966547970, 'username': 'FloridaBengals', 'created_at': 'Mon Apr 25 22:24:42 +0000 2022', 'lng': -82.67290299999999, 'lat': 27.7957195, 'text': \"If Elon Musk's goal was to buy a crappy company that used to be great a long time ago, he should've bought the Reds instead.\"}\n",
            "{'id': 1518717673240104960, 'username': 'BrownsObsession', 'created_at': 'Mon Apr 25 22:24:44 +0000 2022', 'lng': -82.985772, 'lat': 39.9946835, 'text': 'I give Elon Musk permission to interfere in any aspect of my life.'}\n",
            "{'id': 1518717680747954176, 'username': 'anamoncherie', 'created_at': 'Mon Apr 25 22:24:46 +0000 2022', 'lng': -83.71224649999999, 'lat': 41.6930445, 'text': 'Never Jack again'}\n",
            "{'id': 1518717691925651456, 'username': 'elpachungis', 'created_at': 'Mon Apr 25 22:24:48 +0000 2022', 'lng': -117.90564549999999, 'lat': 33.6636085, 'text': 'Elon is a Matrix insider. He’s just a bored billionaire entertaining himself. #ElonMusk'}\n",
            "{'id': 1518717726755213313, 'username': '_meglet', 'created_at': 'Mon Apr 25 22:24:57 +0000 2022', 'lng': -122.4359785, 'lat': 37.7706565, 'text': \"Well. I'm going to be deleting this app. Will leave my account alive for now in case Elon doesn't turn Twitter into… https://t.co/b5gA5BwKFb\"}\n",
            "{'id': 1518717750079856648, 'username': 'SoFarTone', 'created_at': 'Mon Apr 25 22:25:02 +0000 2022', 'lng': -87.732013, 'lat': 41.8335845, 'text': 'damn Elon really bought it?!'}\n",
            "{'id': 1518717755951828992, 'username': 'str8thinker', 'created_at': 'Mon Apr 25 22:25:04 +0000 2022', 'lng': -79.861034, 'lat': 35.1704985, 'text': \"If Elon Musk buys Twitter I'm going to sit on my porch and have a beer. Wait! What? He did? Pops the cap on a Cold Mountain\"}\n",
            "{'id': 1518717779771232256, 'username': 'JoshuaHosler', 'created_at': 'Mon Apr 25 22:25:09 +0000 2022', 'lng': -104.789327, 'lat': 38.8885185, 'text': 'This is the idiocy that we are dealing with. Educational elitists think a degree makes you capable. This brainwashe… https://t.co/88KLIxVMnB'}\n",
            "{'id': 1518717785186217984, 'username': 'carlmascari', 'created_at': 'Mon Apr 25 22:25:11 +0000 2022', 'lng': -88.129425, 'lat': 43.060621499999996, 'text': \"DEAR TWITTER,   FINNALY  I GET THE FEELING  MY FOLLOWERS WON'T  BE DISAPPEARING AS IN THE PAST. I WILL SAY WHAT I… https://t.co/eBnEQl9p46\"}\n",
            "{'id': 1518717789493768192, 'username': 'mspowers', 'created_at': 'Mon Apr 25 22:25:12 +0000 2022', 'lng': -78.76463150000001, 'lat': 43.009116500000005, 'text': 'Whatever, Elon, whatever, build a damn edit button since you have all this cash. To throw around'}\n",
            "{'id': 1518717810784059395, 'username': 'techadvfest', 'created_at': 'Mon Apr 25 22:25:17 +0000 2022', 'lng': -4.2417514999999995, 'lat': 55.85830249999999, 'text': '@ambi_valente @AP Get a life. Why do you think any shareholder is better than Elon?'}\n",
            "{'id': 1518717817016619008, 'username': 'lowriderpiano', 'created_at': 'Mon Apr 25 22:25:18 +0000 2022', 'lng': -118.642692, 'lat': 34.208212, 'text': '@elonmusk Only your best looking Elon. I called BS and too much liability. Let me know when you want to design a st… https://t.co/Ab7MNctgCg'}\n",
            "{'id': 1518717818803748865, 'username': 'WanHirwan1', 'created_at': 'Mon Apr 25 22:25:19 +0000 2022', 'lng': 116.050916, 'lat': 5.923265, 'text': 'Twitter accepts Elon Musk’s $44bn takeover offer - https://t.co/tbTGaIqAwm via @FT'}\n",
            "{'id': 1518717819508174848, 'username': 'ottis41', 'created_at': 'Mon Apr 25 22:25:19 +0000 2022', 'lng': -83.157747, 'lat': 42.507217999999995, 'text': 'Living the life of illusionhttps://t.co/qItENsz1jm'}\n",
            "{'id': 1518717906569334784, 'username': 'gdonovan610', 'created_at': 'Mon Apr 25 22:25:39 +0000 2022', 'lng': -74.280358, 'lat': 40.6098335, 'text': 'Now this stupid shit is coming here?'}\n",
            "{'id': 1518717917952720901, 'username': 'aaronuart', 'created_at': 'Mon Apr 25 22:25:42 +0000 2022', 'lng': -0.18919, 'lat': 51.5037865, 'text': 'Elon Musk buying Twitter is bigger than just free speech! This has the potential to move the needle away from Faceb… https://t.co/DKTzQZBy2D'}\n"
          ]
        },
        {
          "output_type": "display_data",
          "data": {
            "text/plain": [
              "<IPython.core.display.Javascript object>"
            ],
            "application/javascript": [
              "\n",
              "    async function download(id, filename, size) {\n",
              "      if (!google.colab.kernel.accessAllowed) {\n",
              "        return;\n",
              "      }\n",
              "      const div = document.createElement('div');\n",
              "      const label = document.createElement('label');\n",
              "      label.textContent = `Downloading \"${filename}\": `;\n",
              "      div.appendChild(label);\n",
              "      const progress = document.createElement('progress');\n",
              "      progress.max = size;\n",
              "      div.appendChild(progress);\n",
              "      document.body.appendChild(div);\n",
              "\n",
              "      const buffers = [];\n",
              "      let downloaded = 0;\n",
              "\n",
              "      const channel = await google.colab.kernel.comms.open(id);\n",
              "      // Send a message to notify the kernel that we're ready.\n",
              "      channel.send({})\n",
              "\n",
              "      for await (const message of channel.messages) {\n",
              "        // Send a message to notify the kernel that we're ready.\n",
              "        channel.send({})\n",
              "        if (message.buffers) {\n",
              "          for (const buffer of message.buffers) {\n",
              "            buffers.push(buffer);\n",
              "            downloaded += buffer.byteLength;\n",
              "            progress.value = downloaded;\n",
              "          }\n",
              "        }\n",
              "      }\n",
              "      const blob = new Blob(buffers, {type: 'application/binary'});\n",
              "      const a = document.createElement('a');\n",
              "      a.href = window.URL.createObjectURL(blob);\n",
              "      a.download = filename;\n",
              "      div.appendChild(a);\n",
              "      a.click();\n",
              "      div.remove();\n",
              "    }\n",
              "  "
            ]
          },
          "metadata": {}
        },
        {
          "output_type": "display_data",
          "data": {
            "text/plain": [
              "<IPython.core.display.Javascript object>"
            ],
            "application/javascript": [
              "download(\"download_2f77cdbd-d071-4cbf-b855-9d6f0f382c84\", \"geotweets.csv\", 3476)"
            ]
          },
          "metadata": {}
        },
        {
          "output_type": "stream",
          "name": "stdout",
          "text": [
            "the csv has been downloaded to your local computer. The program has been completed successfully.\n"
          ]
        }
      ],
      "source": [
        "if __name__ == \"__main__\":\n",
        "    # These are provided to you through the Twitter API after you create a account\n",
        "    # register a Twitter App to get the keys and access tokens.\n",
        "    output_file = '/gdrive/My Drive/geotweets.csv'\n",
        "\n",
        "    # Apply for your own Twitter API keys at https://developer.twitter.com/en/apply-for-access\n",
        "    consumer_key = \"NLbFIicW1Xj2C5LgMsrhDdwGW\"\n",
        "    consumer_secret = \"RwSSpg4t0WktJEOb8nYAjWpbwPMZIopUY1HUB6LGaeqCUSLHO8\"\n",
        "    access_token = \"1517636929717608448-1K1qkuZ1r8hUuaJkrbQpejGKiceZDx\"\n",
        "    access_token_secret = \"JciruqpsM57rjn15G6linGw6rIiXfFbNB0uNMRuSQAgek\"\n",
        "\n",
        "    myauth = tweepy.OAuthHandler(consumer_key, consumer_secret)\n",
        "    myauth.set_access_token(access_token, access_token_secret)\n",
        "    # LOCATIONS are the longitude, latitude coordinate corners for a box that restricts the\n",
        "    # geographic area from which you will stream tweets. The first two define the southwest\n",
        "    # corner of the box and the second two define the northeast corner of the box.\n",
        "    LOCATIONS = [-124.7771694, 24.520833, -66.947028, 49.384472,  # Contiguous US\n",
        "                 -164.639405, 58.806859, -144.152365, 71.76871,  # Alaska\n",
        "                 -160.161542, 18.776344, -154.641396, 22.878623]  # Hawaii\n",
        "    stream_listener = StreamListener(time_limit=800, file=output_file)\n",
        "    stream = tweepy.Stream(auth=myauth, listener=stream_listener)\n",
        "    stream.filter(languages=['en'], encoding=\"utf-8\", track=[\"Elon\"])\n",
        "\n"
      ]
    }
  ],
  "metadata": {
    "colab": {
      "collapsed_sections": [],
      "name": "Copy of Copy of 02_geosearch.ipynb",
      "provenance": []
    },
    "kernelspec": {
      "display_name": "Python 3",
      "language": "python",
      "name": "python3"
    },
    "language_info": {
      "codemirror_mode": {
        "name": "ipython",
        "version": 3
      },
      "file_extension": ".py",
      "mimetype": "text/x-python",
      "name": "python",
      "nbconvert_exporter": "python",
      "pygments_lexer": "ipython3",
      "version": "3.7.4"
    }
  },
  "nbformat": 4,
  "nbformat_minor": 0
}